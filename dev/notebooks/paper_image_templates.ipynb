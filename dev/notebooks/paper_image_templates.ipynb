{
 "cells": [
  {
   "cell_type": "code",
   "execution_count": 2,
   "id": "c257cae2",
   "metadata": {},
   "outputs": [
    {
     "data": {
      "text/plain": [
       "<matplotlib.colorbar.Colorbar at 0x7f27867bf490>"
      ]
     },
     "execution_count": 2,
     "metadata": {},
     "output_type": "execute_result"
    },
    {
     "data": {
      "image/png": "[encoded data removed]",
      "text/plain": [
       "<Figure size 800x600 with 13 Axes>"
      ]
     },
     "metadata": {},
     "output_type": "display_data"
    }
   ],
   "source": [
    "import numpy as np\n",
    "\n",
    "import matplotlib.pyplot as plt\n",
    "\n",
    "fig, axs = plt.subplots(3, 4, figsize=(8, 6),\n",
    "                        gridspec_kw={'height_ratios': [1, 1, 1]})\n",
    "\n",
    "# Use placeholder images: four random (10x10) images\n",
    "images = [np.random.rand(10, 10) for _ in range(4)]\n",
    "vmin, vmax = 0, 1\n",
    "\n",
    "for ax, im in zip(axs[0], images):\n",
    "    im0 = ax.imshow(im, origin='lower', vmin=vmin, vmax=vmax)\n",
    "    ax.axis('off')\n",
    "\n",
    "fig.colorbar(im0, ax=axs[0, :], orientation='horizontal',\n",
    "             fraction=0.05, pad=0.05, label='Flux [units]')\n",
    "\n",
    "# super-res, GT, residual, zoom panels in axs[1,0], axs[2,0], etc.\n",
    "# … annotate boxes via Rectangle patches …\n"
   ]
  },
  {
   "cell_type": "code",
   "execution_count": null,
   "id": "453bc08f",
   "metadata": {},
   "outputs": [],
   "source": [
    "def linear_flux_recovery_plot(matched_catalog, save_path=None):\n",
    "    # Set up the subplots with shared y-axis\n",
    "    fig, (ax1, ax2) = plt.subplots(1, 2, figsize=(14, 7), sharey=True)\n",
    "    \n",
    "    # Define plot limits and a true line for 1:1 recovery\n",
    "    xmax = 30  # mJy\n",
    "    true_line = np.linspace(0, xmax + 5, 100)\n",
    "    # Plot the first dataset\n",
    "    ax1.errorbar(\n",
    "        matched_catalog[\"S450\"], \n",
    "        matched_catalog[\"S500SR\"], \n",
    "        xerr=matched_catalog[\"S450_total_err\"], \n",
    "        markersize=6, \n",
    "        fmt='o', \n",
    "        ecolor='gray',\n",
    "        elinewidth=1,\n",
    "        capsize=3,\n",
    "        color='blue', \n",
    "        label=label1, \n",
    "        alpha=0.8\n",
    "    )\n",
    "    ax1.plot(\n",
    "        true_line, \n",
    "        true_line,\n",
    "        'r--', \n",
    "        label=\"1:1 Recovery\", \n",
    "        linewidth=2\n",
    "    )\n",
    "\n",
    "    ax1.set_xlabel(r\"SCUBA-2 $450 \\mu m$ Source Flux $S_{in}$ [mJy]\", fontsize=12)\n",
    "    ax1.set_ylabel(r\"Super-resolved $500 \\mu m$ Source Flux $S_{SR}$ [mJy]\", fontsize=12)\n",
    "    ax1.set_xscale('log')\n",
    "    ax1.set_yscale('log')\n",
    "    ax1.tick_params(axis='both', which='major', labelsize=12)\n",
    "    ax1.set_xlim([1, xmax + 5])\n",
    "    ax1.set_ylim([1, xmax + 5])\n",
    "    ax1.legend(fontsize=12, frameon=False)\n",
    "    \n",
    "    # Plot the second dataset\n",
    "    ax2.errorbar(\n",
    "        matched_catalog[\"S500corr\"], \n",
    "        matched_catalog[\"S500SR\"], \n",
    "        xerr=matched_catalog[\"S500corr_total_err\"], \n",
    "        markersize=6, \n",
    "        fmt='o', \n",
    "        ecolor='gray',\n",
    "        elinewidth=1,\n",
    "        capsize=3,\n",
    "        color='blue', \n",
    "        label=label2, \n",
    "        alpha=0.8\n",
    "    )\n",
    "\n",
    "    ax2.plot(\n",
    "        true_line, \n",
    "        true_line,\n",
    "        'r--', \n",
    "        label=\"1:1 Recovery\", \n",
    "        linewidth=2\n",
    "    )\n",
    "\n",
    "    ax2.set_xlabel(r\"SCUBA-2 Converted $500 \\mu m$ Source Flux $S_{in}$ [mJy]\", fontsize=12)\n",
    "    ax2.set_xscale('log')\n",
    "    ax2.set_yscale('log')\n",
    "    ax2.tick_params(axis='both', which='major', labelsize=12)\n",
    "    ax2.set_xlim([1, xmax + 5])\n",
    "    ax2.legend(fontsize=12, frameon=False)\n",
    "    \n",
    "    # Adjust spacing between plots to remove horizontal space\n",
    "    plt.subplots_adjust(wspace=0)\n",
    "    ax1.grid(True)\n",
    "    ax2.grid(True)\n",
    "    \n",
    "    # Save the figure\n",
    "    plt.savefig(save_path, dpi=350, bbox_inches='tight')\n",
    "    plt.show()"
   ]
  }
 ],
 "metadata": {
  "kernelspec": {
   "display_name": "Python 3",
   "language": "python",
   "name": "python3"
  },
  "language_info": {
   "codemirror_mode": {
    "name": "ipython",
    "version": 3
   },
   "file_extension": ".py",
   "mimetype": "text/x-python",
   "name": "python",
   "nbconvert_exporter": "python",
   "pygments_lexer": "ipython3",
   "version": "3.10.12"
  }
 },
 "nbformat": 4,
 "nbformat_minor": 5
}

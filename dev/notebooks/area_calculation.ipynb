{
 "cells": [
  {
   "cell_type": "code",
   "execution_count": 28,
   "id": "04f59aac",
   "metadata": {},
   "outputs": [
    {
     "name": "stdout",
     "output_type": "stream",
     "text": [
      "Comparison at dec_center = 0° (low declination):\n",
      "Tile size: 10° × 10° at dec_center = 0°\n",
      "  Naive area (deg²): 100.00\n",
      "  Spherical area (deg²): 99.87\n",
      "  Difference: 0.13 deg² (0.1% less)\n",
      "\n",
      "Tile size: 2° × 2° at dec_center = 0°\n",
      "  Naive area (deg²): 4.00\n",
      "  Spherical area (deg²): 4.00\n",
      "  Difference: 0.00 deg² (0.0% less)\n",
      "\n",
      "Comparison at dec_center = 60° (high declination):\n",
      "Tile size: 10° × 10° at dec_center = 60°\n",
      "  Naive area (deg²): 100.00\n",
      "  Spherical area (deg²): 49.94\n",
      "  Difference: 50.06 deg² (50.1% less)\n",
      "\n",
      "Tile size: 2° × 2° at dec_center = 60°\n",
      "  Naive area (deg²): 4.00\n",
      "  Spherical area (deg²): 2.00\n",
      "  Difference: 2.00 deg² (50.0% less)\n",
      "\n"
     ]
    }
   ],
   "source": [
    "import numpy as np\n",
    "\n",
    "def spherical_tile_area(tile_size_deg, dec_center_deg):\n",
    "    \"\"\"\n",
    "    Computes the spherical area of a rectangular patch on the sky\n",
    "    defined by:\n",
    "      - RA interval: tile_size_deg\n",
    "      - Dec interval: tile_size_deg\n",
    "    centered at dec_center_deg.\n",
    "    \n",
    "    The spherical area is computed on the unit sphere using:\n",
    "    \n",
    "        area_sr = ΔRA (in rad) * [ sin(dec_center + tile_size_deg/2 in rad) \n",
    "                                  - sin(dec_center - tile_size_deg/2 in rad) ]\n",
    "                                  \n",
    "    Then converted to square degrees. \n",
    "\n",
    "    Parameters:\n",
    "      tile_size_deg : float\n",
    "         Side length of the square tile, in degrees.\n",
    "      dec_center_deg : float\n",
    "         Central declination (in degrees) where the tile is located.\n",
    "\n",
    "    Returns:\n",
    "      area_sph_deg2 : float\n",
    "         The area computed using spherical geometry, in square degrees.\n",
    "    \"\"\"\n",
    "    # Convert tile size and dec_center to radians\n",
    "    L_rad = np.radians(tile_size_deg)\n",
    "    dec_center_rad = np.radians(dec_center_deg)\n",
    "    \n",
    "    # Compute the declination boundaries\n",
    "    dec1_rad = dec_center_rad - L_rad / 2.0\n",
    "    dec2_rad = dec_center_rad + L_rad / 2.0\n",
    "    \n",
    "    # Spherical area in steradians. Note that for a patch defined by RA and Dec,\n",
    "    # the area is: (ΔRA in rad) * (sin(dec2) - sin(dec1))\n",
    "    area_sr = L_rad * (np.sin(dec2_rad) - np.sin(dec1_rad))\n",
    "    \n",
    "    # Convert steradians to square degrees:\n",
    "    #  1 sr = (180/π)² deg².\n",
    "    area_sph_deg2 = area_sr * (180.0 / np.pi) ** 2\n",
    "    return area_sph_deg2\n",
    "\n",
    "def compare_tile_areas(dec_center_deg):\n",
    "    \"\"\"\n",
    "    Compares the spherical area vs. the naive (flat) area \n",
    "    for a 10°×10° tile and a 2°×2° tile, at a given declination.\n",
    "\n",
    "    The naive area is simply tile_size^2.\n",
    "    \"\"\"\n",
    "    for tile_size in [10, 2]:\n",
    "        naive_area = tile_size ** 2\n",
    "        actual_area = spherical_tile_area(tile_size, dec_center_deg)\n",
    "        diff = naive_area - actual_area\n",
    "        percent_diff = (diff / naive_area) * 100.0\n",
    "\n",
    "        print(f\"Tile size: {tile_size}° × {tile_size}° at dec_center = {dec_center_deg}°\")\n",
    "        print(f\"  Naive area (deg²): {naive_area:.2f}\")\n",
    "        print(f\"  Spherical area (deg²): {actual_area:.2f}\")\n",
    "        print(f\"  Difference: {diff:.2f} deg² ({percent_diff:.1f}% less)\\n\")\n",
    "\n",
    "# Example usage:\n",
    "if __name__ == '__main__':\n",
    "    # Change the central declination to see different behavior.\n",
    "    # For example, dec_center_deg = 0 (equator) versus dec_center_deg = 60.\n",
    "    print(\"Comparison at dec_center = 0° (low declination):\")\n",
    "    compare_tile_areas(dec_center_deg=0)\n",
    "\n",
    "    print(\"Comparison at dec_center = 60° (high declination):\")\n",
    "    compare_tile_areas(dec_center_deg=60)\n"
   ]
  },
  {
   "cell_type": "code",
   "execution_count": 48,
   "id": "7118189c",
   "metadata": {},
   "outputs": [
    {
     "name": "stdout",
     "output_type": "stream",
     "text": [
      "Angular separation: 0.2778 degrees\n"
     ]
    }
   ],
   "source": [
    "from astropy.coordinates import SkyCoord\n",
    "import astropy.units as u\n",
    "\n",
    "# Define the coordinates in degrees\n",
    "# Example coordinates\n",
    "ra1, dec1 = 100, 0  # RA and Dec for point 1 (e.g., Andromeda Galaxy)\n",
    "ra2, dec2 = 100 + 100*10/3600, 0  # RA and Dec for point 2 (e.g., Orion Nebula)\n",
    "\n",
    "# Create SkyCoord objects\n",
    "coord1 = SkyCoord(ra=ra1 * u.degree, dec=dec1 * u.degree, frame='icrs')\n",
    "coord2 = SkyCoord(ra=ra2 * u.degree, dec=dec2 * u.degree, frame='icrs')\n",
    "\n",
    "# Calculate the angular separation\n",
    "separation = coord1.separation(coord2)\n",
    "\n",
    "# Print the result\n",
    "print(f\"Angular separation: {separation.degree:.4f} degrees\")\n"
   ]
  },
  {
   "cell_type": "code",
   "execution_count": 44,
   "id": "baa8c23d",
   "metadata": {},
   "outputs": [
    {
     "name": "stdout",
     "output_type": "stream",
     "text": [
      "Tangent point at DEC = 0°:\n",
      "Pixel (1000, 1000): RA, DEC = [10.  0.]\n",
      "Pixel (1001, 1000): RA, DEC = [9.72222440e+00 3.45728707e-15]\n",
      "Difference in RA: -999.99 arcsec\n",
      "\n",
      "Tangent point at DEC = 50°:\n",
      "Pixel (1000, 1000): RA, DEC = [10. 50.]\n",
      "Pixel (1001, 1000): RA, DEC = [ 9.56786269 49.99919755]\n",
      "Difference in RA: -1555.69 arcsec\n"
     ]
    }
   ],
   "source": [
    "from astropy.wcs import WCS\n",
    "import numpy as np\n",
    "\n",
    "def pixel_ra_difference(crval_dec):\n",
    "    # Create a WCS with a TAN projection.\n",
    "    w = WCS(naxis=2)\n",
    "    w.wcs.crpix = [1000, 1000]            # Reference pixel (center)\n",
    "    cd = 10.0 / 3600.0                    # 10 arcsec in degrees\n",
    "    w.wcs.cdelt = np.array([-cd, cd])     # Pixel scale (negative for RA axis convention)\n",
    "    w.wcs.crval = [10.0, crval_dec]         # Reference world coordinates (RA, DEC)\n",
    "    w.wcs.ctype = [\"RA---TAN\", \"DEC--TAN\"]  # TAN (gnomonic) projection\n",
    "    \n",
    "    # Calculate the world coordinates for two pixels that differ by 1 in the X direction.\n",
    "    pos1 = w.all_pix2world([[1000, 1000]], 1)[0]\n",
    "    pos2 = w.all_pix2world([[1100, 1000]], 1)[0]\n",
    "\n",
    "    # Compute the difference in RA (in degrees) and convert to arcseconds.\n",
    "    dRA_deg = pos2[0] - pos1[0]\n",
    "    dRA_arcsec = dRA_deg * 3600.0\n",
    "    return pos1, pos2, dRA_arcsec\n",
    "\n",
    "# Calculate for a tangent plane centered at DEC = 0°.\n",
    "pos1_0, pos2_0, dRA_arcsec_0 = pixel_ra_difference(0)\n",
    "print(\"Tangent point at DEC = 0°:\")\n",
    "print(\"Pixel (1000, 1000): RA, DEC =\", pos1_0)\n",
    "print(\"Pixel (1001, 1000): RA, DEC =\", pos2_0)\n",
    "print(f\"Difference in RA: {dRA_arcsec_0:.2f} arcsec\\n\")\n",
    "\n",
    "# Calculate for a tangent plane centered at DEC = 50°.\n",
    "pos1_50, pos2_50, dRA_arcsec_50 = pixel_ra_difference(50)\n",
    "print(\"Tangent point at DEC = 50°:\")\n",
    "print(\"Pixel (1000, 1000): RA, DEC =\", pos1_50)\n",
    "print(\"Pixel (1001, 1000): RA, DEC =\", pos2_50)\n",
    "print(f\"Difference in RA: {dRA_arcsec_50:.2f} arcsec\")\n"
   ]
  },
  {
   "cell_type": "code",
   "execution_count": 49,
   "id": "11af6ae0",
   "metadata": {},
   "outputs": [
    {
     "data": {
      "text/plain": [
       "0.6427947621591361"
      ]
     },
     "execution_count": 49,
     "metadata": {},
     "output_type": "execute_result"
    }
   ],
   "source": [
    "dRA_arcsec_0/dRA_arcsec_50"
   ]
  },
  {
   "cell_type": "code",
   "execution_count": 50,
   "id": "23a6f5b6",
   "metadata": {},
   "outputs": [
    {
     "data": {
      "text/plain": [
       "0.178568384927808"
      ]
     },
     "execution_count": 50,
     "metadata": {},
     "output_type": "execute_result"
    }
   ],
   "source": [
    "0.2778*0.6427947621591361"
   ]
  },
  {
   "cell_type": "code",
   "execution_count": null,
   "id": "3931bff9",
   "metadata": {},
   "outputs": [],
   "source": []
  }
 ],
 "metadata": {
  "kernelspec": {
   "display_name": "Python 3",
   "language": "python",
   "name": "python3"
  },
  "language_info": {
   "codemirror_mode": {
    "name": "ipython",
    "version": 3
   },
   "file_extension": ".py",
   "mimetype": "text/x-python",
   "name": "python",
   "nbconvert_exporter": "python",
   "pygments_lexer": "ipython3",
   "version": "3.10.12"
  }
 },
 "nbformat": 4,
 "nbformat_minor": 5
}

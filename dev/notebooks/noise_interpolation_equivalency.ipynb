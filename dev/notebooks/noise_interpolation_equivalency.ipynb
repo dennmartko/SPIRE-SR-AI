{
 "cells": [
  {
   "cell_type": "code",
   "execution_count": null,
   "metadata": {
    "vscode": {
     "languageId": "plaintext"
    }
   },
   "outputs": [],
   "source": [
    "import numpy as np\n",
    "from astropy.wcs import WCS\n",
    "from astropy.io import fits\n",
    "from astropy.convolution import convolve, Gaussian2DKernel\n",
    "from reproject import reproject_interp, reproject_exact\n",
    "import matplotlib.pyplot as plt\n",
    "\n",
    "# Parameters\n",
    "image_size = 128  # Original image size (pixels)\n",
    "pixel_scale = 4.0  # Pixel scale (arcseconds per pixel)\n",
    "new_pixel_scale = 1.0  # New pixel scale\n",
    "noise_level = 0.05  # Noise standard deviation\n",
    "\n",
    "# Create a WCS for the original image\n",
    "wcs_original = WCS(naxis=2)\n",
    "wcs_original.wcs.crpix = [image_size / 2, image_size / 2]\n",
    "wcs_original.wcs.cdelt = [pixel_scale / 3600.0, pixel_scale / 3600.0]  # Degrees per pixel\n",
    "wcs_original.wcs.crval = [0, 0]\n",
    "wcs_original.wcs.ctype = [\"RA---TAN\", \"DEC--TAN\"]\n",
    "\n",
    "# Create a WCS for the new image\n",
    "new_size = int(image_size * pixel_scale / new_pixel_scale)\n",
    "wcs_new = WCS(naxis=2)\n",
    "wcs_new.wcs.crpix = [new_size / 2, new_size / 2]\n",
    "wcs_new.wcs.cdelt = [new_pixel_scale / 3600.0, new_pixel_scale / 3600.0]  # Degrees per pixel\n",
    "wcs_new.wcs.crval = [0, 0]\n",
    "wcs_new.wcs.ctype = [\"RA---TAN\", \"DEC--TAN\"]\n",
    "\n",
    "# Simulate Gaussian point sources\n",
    "np.random.seed(42)  # For reproducibility\n",
    "num_sources = 20\n",
    "positions = np.random.uniform(0, image_size, (num_sources, 2))\n",
    "amplitudes = np.random.uniform(0.5, 1.5, num_sources)\n",
    "\n",
    "image = np.zeros((image_size, image_size))\n",
    "for pos, amp in zip(positions, amplitudes):\n",
    "    y, x = np.meshgrid(np.arange(image_size), np.arange(image_size))\n",
    "    image += amp * np.exp(-((x - pos[0])**2 + (y - pos[1])**2) / (2 * (1.0)**2))\n",
    "\n",
    "# Convolve with a Gaussian PSF\n",
    "psf = Gaussian2DKernel(1.5)  # PSF with standard deviation of 1.5 pixels\n",
    "image_psf = convolve(image, psf)\n",
    "\n",
    "# Add Gaussian noise\n",
    "noise = np.random.normal(0, noise_level, (image_size, image_size))\n",
    "image_with_noise = image_psf + noise\n",
    "\n",
    "# Reproject the original image and noise separately\n",
    "original_hdu = fits.PrimaryHDU(image_with_noise, header=wcs_original.to_header())\n",
    "target_shape = (new_size, new_size)\n",
    "\n",
    "reprojected_image_with_noise, _ = reproject_exact(original_hdu, output_projection=wcs_new, shape_out=target_shape)\n",
    "reprojected_image, _ = reproject_exact(fits.PrimaryHDU(image_psf, header=wcs_original.to_header()), \n",
    "                                       output_projection=wcs_new, shape_out=target_shape)\n",
    "reprojected_noise, _ = reproject_exact(fits.PrimaryHDU(noise, header=wcs_original.to_header()), \n",
    "                                       output_projection=wcs_new, shape_out=target_shape)\n",
    "\n",
    "# Check equivalence\n",
    "combined_reprojection, _ = reproject_exact(fits.PrimaryHDU(image_with_noise, header=wcs_original.to_header()), \n",
    "                                           output_projection=wcs_new, shape_out=target_shape)\n",
    "separate_sum = reprojected_image + reprojected_noise\n",
    "\n",
    "# Plot results\n",
    "fig, ax = plt.subplots(2, 3, figsize=(15, 10))\n",
    "ax[0, 0].imshow(image_psf, origin=\"lower\", cmap=\"gray\")\n",
    "ax[0, 0].set_title(\"Original Image (Signal)\")\n",
    "ax[0, 1].imshow(noise, origin=\"lower\", cmap=\"gray\")\n",
    "ax[0, 1].set_title(\"Original Noise\")\n",
    "ax[0, 2].imshow(image_with_noise, origin=\"lower\", cmap=\"gray\")\n",
    "ax[0, 2].set_title(\"Original Image + Noise\")\n",
    "\n",
    "ax[1, 0].imshow(reprojected_image, origin=\"lower\", cmap=\"gray\")\n",
    "ax[1, 0].set_title(\"Reprojected Image (Signal)\")\n",
    "ax[1, 1].imshow(reprojected_noise, origin=\"lower\", cmap=\"gray\")\n",
    "ax[1, 1].set_title(\"Reprojected Noise\")\n",
    "ax[1, 2].imshow(np.abs(combined_reprojection - separate_sum), origin=\"lower\", cmap=\"hot\")\n",
    "ax[1, 2].set_title(\"Difference: f(A1 + N) vs f(A1) + f(N)\")\n",
    "\n",
    "plt.tight_layout()\n",
    "plt.show()\n"
   ]
  },
  {
   "cell_type": "code",
   "execution_count": null,
   "metadata": {
    "vscode": {
     "languageId": "plaintext"
    }
   },
   "outputs": [],
   "source": []
  }
 ],
 "metadata": {
  "language_info": {
   "name": "python"
  }
 },
 "nbformat": 4,
 "nbformat_minor": 2
}

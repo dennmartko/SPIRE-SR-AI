{
 "cells": [
  {
   "cell_type": "code",
   "execution_count": null,
   "id": "9e2ed44a",
   "metadata": {},
   "outputs": [],
   "source": [
    "def parse_par_file(params, par_file):\n",
    "    # Assemble lines from the params dictionary\n",
    "    lines = []\n",
    "    for key, value in params.items():\n",
    "        lines.append(f\"{key} = {value}\")\n",
    "    \n",
    "    # Append fixed map generation parameters\n",
    "    lines.extend([\n",
    "        \"gen_map_nobeam_Jy_pix      = False\",\n",
    "        \"gen_map_nobeam_MJy_sr      = False\",\n",
    "        \"gen_map_smoothed_Jy_beam   = True\",\n",
    "        \"gen_map_smoothed_MJy_sr    = False\"\n",
    "    ])\n",
    "\n",
    "    # Write the parameter string to the file, overwriting the existing content\n",
    "    with open(par_file, 'w') as f:\n",
    "        f.write(\"\\n\".join(lines))\n",
    "\n",
    "gen_native_map_params = {'sides_cat_path': \"\",\n",
    "                         'filter_list': ['MIPS24', 'SPIRE250', 'SPIRE350', 'SPIRE500'],\n",
    "                         'beam_fwhm_list': [5.7, 18.1, 24.9, 36.6],\n",
    "                         'pixel_size': [1.2, 6., 8.33, 12.],\n",
    "                         'field_size': 2,\n",
    "                         'run_name': '',\n",
    "                         'output_path': \"'/mnt/g/data/PhD Projects/SR/sim_datamaps/'\"}\n",
    "\n",
    "\n",
    "gen_sr_map_params = {'sides_cat_path': \"\",\n",
    "                         'filter_list': ['SPIRE500'],\n",
    "                         'beam_fwhm_list': [7.9],\n",
    "                         'pixel_size': [1.],\n",
    "                         'field_size': 2,\n",
    "                         'run_name': '', # Need _SR suffix\n",
    "                         'output_path': \"'/mnt/g/data/PhD Projects/SR/sim_datamaps/'\"}\n"
   ]
  },
  {
   "cell_type": "code",
   "execution_count": 2,
   "id": "eda08740",
   "metadata": {},
   "outputs": [
    {
     "name": "stdout",
     "output_type": "stream",
     "text": [
      "Processing dataset: SIDES\n"
     ]
    },
    {
     "name": "stderr",
     "output_type": "stream",
     "text": [
      "SIDES iterations:   0%|          | 0/30 [00:00<?, ?iter/s]"
     ]
    },
    {
     "name": "stdout",
     "output_type": "stream",
     "text": [
      "[\"sides_cat_path = '/mnt/g/data/PhD Projects/SR/sim_catalogs/SIDES_1_cat.fits'\", \"filter_list = ['MIPS24', 'SPIRE250', 'SPIRE350', 'SPIRE500']\", 'beam_fwhm_list = [5.7, 18.1, 24.9, 36.6]', 'pixel_size = [1.2, 6.0, 8.33, 12.0]', 'field_size = 2', \"run_name =  'SIDES_1' \", \"output_path = '/mnt/g/data/PhD Projects/SR/sim_datamaps/'\", 'gen_map_nobeam_Jy_pix      = False', 'gen_map_nobeam_MJy_sr      = False', 'gen_map_smoothed_Jy_beam   = True', 'gen_map_smoothed_MJy_sr    = False']\n",
      "[SIDES - Iteration 1] Native maps completed.\n",
      "[\"sides_cat_path = '/mnt/g/data/PhD Projects/SR/sim_catalogs/SIDES_1_cat.fits'\", \"filter_list = ['SPIRE500']\", 'beam_fwhm_list = [7.9]', 'pixel_size = [1.0]', 'field_size = 2', \"run_name =  'SIDES_1_SR' \", \"output_path = '/mnt/g/data/PhD Projects/SR/sim_datamaps/'\", 'gen_map_nobeam_Jy_pix      = False', 'gen_map_nobeam_MJy_sr      = False', 'gen_map_smoothed_Jy_beam   = True', 'gen_map_smoothed_MJy_sr    = False']\n"
     ]
    },
    {
     "name": "stderr",
     "output_type": "stream",
     "text": [
      "SIDES iterations:   3%|▎         | 1/30 [01:00<29:11, 60.39s/iter]"
     ]
    },
    {
     "name": "stdout",
     "output_type": "stream",
     "text": [
      "[SIDES - Iteration 1] Super-resolved completed.\n",
      "[\"sides_cat_path = '/mnt/g/data/PhD Projects/SR/sim_catalogs/SIDES_2_cat.fits'\", \"filter_list = ['MIPS24', 'SPIRE250', 'SPIRE350', 'SPIRE500']\", 'beam_fwhm_list = [5.7, 18.1, 24.9, 36.6]', 'pixel_size = [1.2, 6.0, 8.33, 12.0]', 'field_size = 2', \"run_name =  'SIDES_2' \", \"output_path = '/mnt/g/data/PhD Projects/SR/sim_datamaps/'\", 'gen_map_nobeam_Jy_pix      = False', 'gen_map_nobeam_MJy_sr      = False', 'gen_map_smoothed_Jy_beam   = True', 'gen_map_smoothed_MJy_sr    = False']\n",
      "[SIDES - Iteration 2] Native maps completed.\n",
      "[\"sides_cat_path = '/mnt/g/data/PhD Projects/SR/sim_catalogs/SIDES_2_cat.fits'\", \"filter_list = ['SPIRE500']\", 'beam_fwhm_list = [7.9]', 'pixel_size = [1.0]', 'field_size = 2', \"run_name =  'SIDES_2_SR' \", \"output_path = '/mnt/g/data/PhD Projects/SR/sim_datamaps/'\", 'gen_map_nobeam_Jy_pix      = False', 'gen_map_nobeam_MJy_sr      = False', 'gen_map_smoothed_Jy_beam   = True', 'gen_map_smoothed_MJy_sr    = False']\n"
     ]
    },
    {
     "name": "stderr",
     "output_type": "stream",
     "text": [
      "SIDES iterations:   7%|▋         | 2/30 [01:54<26:34, 56.93s/iter]"
     ]
    },
    {
     "name": "stdout",
     "output_type": "stream",
     "text": [
      "[SIDES - Iteration 2] Super-resolved completed.\n",
      "[\"sides_cat_path = '/mnt/g/data/PhD Projects/SR/sim_catalogs/SIDES_3_cat.fits'\", \"filter_list = ['MIPS24', 'SPIRE250', 'SPIRE350', 'SPIRE500']\", 'beam_fwhm_list = [5.7, 18.1, 24.9, 36.6]', 'pixel_size = [1.2, 6.0, 8.33, 12.0]', 'field_size = 2', \"run_name =  'SIDES_3' \", \"output_path = '/mnt/g/data/PhD Projects/SR/sim_datamaps/'\", 'gen_map_nobeam_Jy_pix      = False', 'gen_map_nobeam_MJy_sr      = False', 'gen_map_smoothed_Jy_beam   = True', 'gen_map_smoothed_MJy_sr    = False']\n",
      "[SIDES - Iteration 3] Native maps completed.\n",
      "[\"sides_cat_path = '/mnt/g/data/PhD Projects/SR/sim_catalogs/SIDES_3_cat.fits'\", \"filter_list = ['SPIRE500']\", 'beam_fwhm_list = [7.9]', 'pixel_size = [1.0]', 'field_size = 2', \"run_name =  'SIDES_3_SR' \", \"output_path = '/mnt/g/data/PhD Projects/SR/sim_datamaps/'\", 'gen_map_nobeam_Jy_pix      = False', 'gen_map_nobeam_MJy_sr      = False', 'gen_map_smoothed_Jy_beam   = True', 'gen_map_smoothed_MJy_sr    = False']\n"
     ]
    },
    {
     "name": "stderr",
     "output_type": "stream",
     "text": [
      "SIDES iterations:  10%|█         | 3/30 [02:49<25:10, 55.94s/iter]"
     ]
    },
    {
     "name": "stdout",
     "output_type": "stream",
     "text": [
      "[SIDES - Iteration 3] Super-resolved completed.\n",
      "[\"sides_cat_path = '/mnt/g/data/PhD Projects/SR/sim_catalogs/SIDES_4_cat.fits'\", \"filter_list = ['MIPS24', 'SPIRE250', 'SPIRE350', 'SPIRE500']\", 'beam_fwhm_list = [5.7, 18.1, 24.9, 36.6]', 'pixel_size = [1.2, 6.0, 8.33, 12.0]', 'field_size = 2', \"run_name =  'SIDES_4' \", \"output_path = '/mnt/g/data/PhD Projects/SR/sim_datamaps/'\", 'gen_map_nobeam_Jy_pix      = False', 'gen_map_nobeam_MJy_sr      = False', 'gen_map_smoothed_Jy_beam   = True', 'gen_map_smoothed_MJy_sr    = False']\n",
      "[SIDES - Iteration 4] Native maps completed.\n",
      "[\"sides_cat_path = '/mnt/g/data/PhD Projects/SR/sim_catalogs/SIDES_4_cat.fits'\", \"filter_list = ['SPIRE500']\", 'beam_fwhm_list = [7.9]', 'pixel_size = [1.0]', 'field_size = 2', \"run_name =  'SIDES_4_SR' \", \"output_path = '/mnt/g/data/PhD Projects/SR/sim_datamaps/'\", 'gen_map_nobeam_Jy_pix      = False', 'gen_map_nobeam_MJy_sr      = False', 'gen_map_smoothed_Jy_beam   = True', 'gen_map_smoothed_MJy_sr    = False']\n"
     ]
    },
    {
     "name": "stderr",
     "output_type": "stream",
     "text": [
      "SIDES iterations:  13%|█▎        | 4/30 [03:43<23:53, 55.12s/iter]"
     ]
    },
    {
     "name": "stdout",
     "output_type": "stream",
     "text": [
      "[SIDES - Iteration 4] Super-resolved completed.\n",
      "[\"sides_cat_path = '/mnt/g/data/PhD Projects/SR/sim_catalogs/SIDES_5_cat.fits'\", \"filter_list = ['MIPS24', 'SPIRE250', 'SPIRE350', 'SPIRE500']\", 'beam_fwhm_list = [5.7, 18.1, 24.9, 36.6]', 'pixel_size = [1.2, 6.0, 8.33, 12.0]', 'field_size = 2', \"run_name =  'SIDES_5' \", \"output_path = '/mnt/g/data/PhD Projects/SR/sim_datamaps/'\", 'gen_map_nobeam_Jy_pix      = False', 'gen_map_nobeam_MJy_sr      = False', 'gen_map_smoothed_Jy_beam   = True', 'gen_map_smoothed_MJy_sr    = False']\n",
      "[SIDES - Iteration 5] Native maps completed.\n",
      "[\"sides_cat_path = '/mnt/g/data/PhD Projects/SR/sim_catalogs/SIDES_5_cat.fits'\", \"filter_list = ['SPIRE500']\", 'beam_fwhm_list = [7.9]', 'pixel_size = [1.0]', 'field_size = 2', \"run_name =  'SIDES_5_SR' \", \"output_path = '/mnt/g/data/PhD Projects/SR/sim_datamaps/'\", 'gen_map_nobeam_Jy_pix      = False', 'gen_map_nobeam_MJy_sr      = False', 'gen_map_smoothed_Jy_beam   = True', 'gen_map_smoothed_MJy_sr    = False']\n"
     ]
    },
    {
     "name": "stderr",
     "output_type": "stream",
     "text": [
      "SIDES iterations:  17%|█▋        | 5/30 [04:37<22:47, 54.69s/iter]"
     ]
    },
    {
     "name": "stdout",
     "output_type": "stream",
     "text": [
      "[SIDES - Iteration 5] Super-resolved completed.\n",
      "[\"sides_cat_path = '/mnt/g/data/PhD Projects/SR/sim_catalogs/SIDES_6_cat.fits'\", \"filter_list = ['MIPS24', 'SPIRE250', 'SPIRE350', 'SPIRE500']\", 'beam_fwhm_list = [5.7, 18.1, 24.9, 36.6]', 'pixel_size = [1.2, 6.0, 8.33, 12.0]', 'field_size = 2', \"run_name =  'SIDES_6' \", \"output_path = '/mnt/g/data/PhD Projects/SR/sim_datamaps/'\", 'gen_map_nobeam_Jy_pix      = False', 'gen_map_nobeam_MJy_sr      = False', 'gen_map_smoothed_Jy_beam   = True', 'gen_map_smoothed_MJy_sr    = False']\n",
      "[SIDES - Iteration 6] Native maps completed.\n",
      "[\"sides_cat_path = '/mnt/g/data/PhD Projects/SR/sim_catalogs/SIDES_6_cat.fits'\", \"filter_list = ['SPIRE500']\", 'beam_fwhm_list = [7.9]', 'pixel_size = [1.0]', 'field_size = 2', \"run_name =  'SIDES_6_SR' \", \"output_path = '/mnt/g/data/PhD Projects/SR/sim_datamaps/'\", 'gen_map_nobeam_Jy_pix      = False', 'gen_map_nobeam_MJy_sr      = False', 'gen_map_smoothed_Jy_beam   = True', 'gen_map_smoothed_MJy_sr    = False']\n"
     ]
    },
    {
     "name": "stderr",
     "output_type": "stream",
     "text": [
      "SIDES iterations:  20%|██        | 6/30 [05:31<21:49, 54.56s/iter]"
     ]
    },
    {
     "name": "stdout",
     "output_type": "stream",
     "text": [
      "[SIDES - Iteration 6] Super-resolved completed.\n",
      "[\"sides_cat_path = '/mnt/g/data/PhD Projects/SR/sim_catalogs/SIDES_7_cat.fits'\", \"filter_list = ['MIPS24', 'SPIRE250', 'SPIRE350', 'SPIRE500']\", 'beam_fwhm_list = [5.7, 18.1, 24.9, 36.6]', 'pixel_size = [1.2, 6.0, 8.33, 12.0]', 'field_size = 2', \"run_name =  'SIDES_7' \", \"output_path = '/mnt/g/data/PhD Projects/SR/sim_datamaps/'\", 'gen_map_nobeam_Jy_pix      = False', 'gen_map_nobeam_MJy_sr      = False', 'gen_map_smoothed_Jy_beam   = True', 'gen_map_smoothed_MJy_sr    = False']\n",
      "[SIDES - Iteration 7] Native maps completed.\n",
      "[\"sides_cat_path = '/mnt/g/data/PhD Projects/SR/sim_catalogs/SIDES_7_cat.fits'\", \"filter_list = ['SPIRE500']\", 'beam_fwhm_list = [7.9]', 'pixel_size = [1.0]', 'field_size = 2', \"run_name =  'SIDES_7_SR' \", \"output_path = '/mnt/g/data/PhD Projects/SR/sim_datamaps/'\", 'gen_map_nobeam_Jy_pix      = False', 'gen_map_nobeam_MJy_sr      = False', 'gen_map_smoothed_Jy_beam   = True', 'gen_map_smoothed_MJy_sr    = False']\n"
     ]
    },
    {
     "name": "stderr",
     "output_type": "stream",
     "text": [
      "SIDES iterations:  23%|██▎       | 7/30 [06:25<20:51, 54.39s/iter]"
     ]
    },
    {
     "name": "stdout",
     "output_type": "stream",
     "text": [
      "[SIDES - Iteration 7] Super-resolved completed.\n",
      "[\"sides_cat_path = '/mnt/g/data/PhD Projects/SR/sim_catalogs/SIDES_8_cat.fits'\", \"filter_list = ['MIPS24', 'SPIRE250', 'SPIRE350', 'SPIRE500']\", 'beam_fwhm_list = [5.7, 18.1, 24.9, 36.6]', 'pixel_size = [1.2, 6.0, 8.33, 12.0]', 'field_size = 2', \"run_name =  'SIDES_8' \", \"output_path = '/mnt/g/data/PhD Projects/SR/sim_datamaps/'\", 'gen_map_nobeam_Jy_pix      = False', 'gen_map_nobeam_MJy_sr      = False', 'gen_map_smoothed_Jy_beam   = True', 'gen_map_smoothed_MJy_sr    = False']\n",
      "[SIDES - Iteration 8] Native maps completed.\n",
      "[\"sides_cat_path = '/mnt/g/data/PhD Projects/SR/sim_catalogs/SIDES_8_cat.fits'\", \"filter_list = ['SPIRE500']\", 'beam_fwhm_list = [7.9]', 'pixel_size = [1.0]', 'field_size = 2', \"run_name =  'SIDES_8_SR' \", \"output_path = '/mnt/g/data/PhD Projects/SR/sim_datamaps/'\", 'gen_map_nobeam_Jy_pix      = False', 'gen_map_nobeam_MJy_sr      = False', 'gen_map_smoothed_Jy_beam   = True', 'gen_map_smoothed_MJy_sr    = False']\n"
     ]
    },
    {
     "name": "stderr",
     "output_type": "stream",
     "text": [
      "SIDES iterations:  27%|██▋       | 8/30 [07:19<19:49, 54.05s/iter]"
     ]
    },
    {
     "name": "stdout",
     "output_type": "stream",
     "text": [
      "[SIDES - Iteration 8] Super-resolved completed.\n",
      "[\"sides_cat_path = '/mnt/g/data/PhD Projects/SR/sim_catalogs/SIDES_9_cat.fits'\", \"filter_list = ['MIPS24', 'SPIRE250', 'SPIRE350', 'SPIRE500']\", 'beam_fwhm_list = [5.7, 18.1, 24.9, 36.6]', 'pixel_size = [1.2, 6.0, 8.33, 12.0]', 'field_size = 2', \"run_name =  'SIDES_9' \", \"output_path = '/mnt/g/data/PhD Projects/SR/sim_datamaps/'\", 'gen_map_nobeam_Jy_pix      = False', 'gen_map_nobeam_MJy_sr      = False', 'gen_map_smoothed_Jy_beam   = True', 'gen_map_smoothed_MJy_sr    = False']\n",
      "[SIDES - Iteration 9] Native maps completed.\n",
      "[\"sides_cat_path = '/mnt/g/data/PhD Projects/SR/sim_catalogs/SIDES_9_cat.fits'\", \"filter_list = ['SPIRE500']\", 'beam_fwhm_list = [7.9]', 'pixel_size = [1.0]', 'field_size = 2', \"run_name =  'SIDES_9_SR' \", \"output_path = '/mnt/g/data/PhD Projects/SR/sim_datamaps/'\", 'gen_map_nobeam_Jy_pix      = False', 'gen_map_nobeam_MJy_sr      = False', 'gen_map_smoothed_Jy_beam   = True', 'gen_map_smoothed_MJy_sr    = False']\n"
     ]
    },
    {
     "name": "stderr",
     "output_type": "stream",
     "text": [
      "SIDES iterations:  30%|███       | 9/30 [08:07<18:17, 52.27s/iter]"
     ]
    },
    {
     "name": "stdout",
     "output_type": "stream",
     "text": [
      "[SIDES - Iteration 9] Super-resolved completed.\n",
      "[\"sides_cat_path = '/mnt/g/data/PhD Projects/SR/sim_catalogs/SIDES_10_cat.fits'\", \"filter_list = ['MIPS24', 'SPIRE250', 'SPIRE350', 'SPIRE500']\", 'beam_fwhm_list = [5.7, 18.1, 24.9, 36.6]', 'pixel_size = [1.2, 6.0, 8.33, 12.0]', 'field_size = 2', \"run_name =  'SIDES_10' \", \"output_path = '/mnt/g/data/PhD Projects/SR/sim_datamaps/'\", 'gen_map_nobeam_Jy_pix      = False', 'gen_map_nobeam_MJy_sr      = False', 'gen_map_smoothed_Jy_beam   = True', 'gen_map_smoothed_MJy_sr    = False']\n",
      "[SIDES - Iteration 10] Native maps completed.\n",
      "[\"sides_cat_path = '/mnt/g/data/PhD Projects/SR/sim_catalogs/SIDES_10_cat.fits'\", \"filter_list = ['SPIRE500']\", 'beam_fwhm_list = [7.9]', 'pixel_size = [1.0]', 'field_size = 2', \"run_name =  'SIDES_10_SR' \", \"output_path = '/mnt/g/data/PhD Projects/SR/sim_datamaps/'\", 'gen_map_nobeam_Jy_pix      = False', 'gen_map_nobeam_MJy_sr      = False', 'gen_map_smoothed_Jy_beam   = True', 'gen_map_smoothed_MJy_sr    = False']\n"
     ]
    },
    {
     "name": "stderr",
     "output_type": "stream",
     "text": [
      "SIDES iterations:  33%|███▎      | 10/30 [08:57<17:08, 51.43s/iter]"
     ]
    },
    {
     "name": "stdout",
     "output_type": "stream",
     "text": [
      "[SIDES - Iteration 10] Super-resolved completed.\n",
      "[\"sides_cat_path = '/mnt/g/data/PhD Projects/SR/sim_catalogs/SIDES_11_cat.fits'\", \"filter_list = ['MIPS24', 'SPIRE250', 'SPIRE350', 'SPIRE500']\", 'beam_fwhm_list = [5.7, 18.1, 24.9, 36.6]', 'pixel_size = [1.2, 6.0, 8.33, 12.0]', 'field_size = 2', \"run_name =  'SIDES_11' \", \"output_path = '/mnt/g/data/PhD Projects/SR/sim_datamaps/'\", 'gen_map_nobeam_Jy_pix      = False', 'gen_map_nobeam_MJy_sr      = False', 'gen_map_smoothed_Jy_beam   = True', 'gen_map_smoothed_MJy_sr    = False']\n",
      "[SIDES - Iteration 11] Native maps completed.\n",
      "[\"sides_cat_path = '/mnt/g/data/PhD Projects/SR/sim_catalogs/SIDES_11_cat.fits'\", \"filter_list = ['SPIRE500']\", 'beam_fwhm_list = [7.9]', 'pixel_size = [1.0]', 'field_size = 2', \"run_name =  'SIDES_11_SR' \", \"output_path = '/mnt/g/data/PhD Projects/SR/sim_datamaps/'\", 'gen_map_nobeam_Jy_pix      = False', 'gen_map_nobeam_MJy_sr      = False', 'gen_map_smoothed_Jy_beam   = True', 'gen_map_smoothed_MJy_sr    = False']\n"
     ]
    },
    {
     "name": "stderr",
     "output_type": "stream",
     "text": [
      "SIDES iterations:  37%|███▋      | 11/30 [09:45<16:00, 50.55s/iter]"
     ]
    },
    {
     "name": "stdout",
     "output_type": "stream",
     "text": [
      "[SIDES - Iteration 11] Super-resolved completed.\n",
      "[\"sides_cat_path = '/mnt/g/data/PhD Projects/SR/sim_catalogs/SIDES_12_cat.fits'\", \"filter_list = ['MIPS24', 'SPIRE250', 'SPIRE350', 'SPIRE500']\", 'beam_fwhm_list = [5.7, 18.1, 24.9, 36.6]', 'pixel_size = [1.2, 6.0, 8.33, 12.0]', 'field_size = 2', \"run_name =  'SIDES_12' \", \"output_path = '/mnt/g/data/PhD Projects/SR/sim_datamaps/'\", 'gen_map_nobeam_Jy_pix      = False', 'gen_map_nobeam_MJy_sr      = False', 'gen_map_smoothed_Jy_beam   = True', 'gen_map_smoothed_MJy_sr    = False']\n",
      "[SIDES - Iteration 12] Native maps completed.\n",
      "[\"sides_cat_path = '/mnt/g/data/PhD Projects/SR/sim_catalogs/SIDES_12_cat.fits'\", \"filter_list = ['SPIRE500']\", 'beam_fwhm_list = [7.9]', 'pixel_size = [1.0]', 'field_size = 2', \"run_name =  'SIDES_12_SR' \", \"output_path = '/mnt/g/data/PhD Projects/SR/sim_datamaps/'\", 'gen_map_nobeam_Jy_pix      = False', 'gen_map_nobeam_MJy_sr      = False', 'gen_map_smoothed_Jy_beam   = True', 'gen_map_smoothed_MJy_sr    = False']\n"
     ]
    },
    {
     "name": "stderr",
     "output_type": "stream",
     "text": [
      "SIDES iterations:  40%|████      | 12/30 [10:34<15:03, 50.18s/iter]"
     ]
    },
    {
     "name": "stdout",
     "output_type": "stream",
     "text": [
      "[SIDES - Iteration 12] Super-resolved completed.\n",
      "[\"sides_cat_path = '/mnt/g/data/PhD Projects/SR/sim_catalogs/SIDES_13_cat.fits'\", \"filter_list = ['MIPS24', 'SPIRE250', 'SPIRE350', 'SPIRE500']\", 'beam_fwhm_list = [5.7, 18.1, 24.9, 36.6]', 'pixel_size = [1.2, 6.0, 8.33, 12.0]', 'field_size = 2', \"run_name =  'SIDES_13' \", \"output_path = '/mnt/g/data/PhD Projects/SR/sim_datamaps/'\", 'gen_map_nobeam_Jy_pix      = False', 'gen_map_nobeam_MJy_sr      = False', 'gen_map_smoothed_Jy_beam   = True', 'gen_map_smoothed_MJy_sr    = False']\n",
      "[SIDES - Iteration 13] Native maps completed.\n",
      "[\"sides_cat_path = '/mnt/g/data/PhD Projects/SR/sim_catalogs/SIDES_13_cat.fits'\", \"filter_list = ['SPIRE500']\", 'beam_fwhm_list = [7.9]', 'pixel_size = [1.0]', 'field_size = 2', \"run_name =  'SIDES_13_SR' \", \"output_path = '/mnt/g/data/PhD Projects/SR/sim_datamaps/'\", 'gen_map_nobeam_Jy_pix      = False', 'gen_map_nobeam_MJy_sr      = False', 'gen_map_smoothed_Jy_beam   = True', 'gen_map_smoothed_MJy_sr    = False']\n"
     ]
    },
    {
     "name": "stderr",
     "output_type": "stream",
     "text": [
      "SIDES iterations:  43%|████▎     | 13/30 [11:22<13:59, 49.38s/iter]"
     ]
    },
    {
     "name": "stdout",
     "output_type": "stream",
     "text": [
      "[SIDES - Iteration 13] Super-resolved completed.\n",
      "[\"sides_cat_path = '/mnt/g/data/PhD Projects/SR/sim_catalogs/SIDES_14_cat.fits'\", \"filter_list = ['MIPS24', 'SPIRE250', 'SPIRE350', 'SPIRE500']\", 'beam_fwhm_list = [5.7, 18.1, 24.9, 36.6]', 'pixel_size = [1.2, 6.0, 8.33, 12.0]', 'field_size = 2', \"run_name =  'SIDES_14' \", \"output_path = '/mnt/g/data/PhD Projects/SR/sim_datamaps/'\", 'gen_map_nobeam_Jy_pix      = False', 'gen_map_nobeam_MJy_sr      = False', 'gen_map_smoothed_Jy_beam   = True', 'gen_map_smoothed_MJy_sr    = False']\n",
      "[SIDES - Iteration 14] Native maps completed.\n",
      "[\"sides_cat_path = '/mnt/g/data/PhD Projects/SR/sim_catalogs/SIDES_14_cat.fits'\", \"filter_list = ['SPIRE500']\", 'beam_fwhm_list = [7.9]', 'pixel_size = [1.0]', 'field_size = 2', \"run_name =  'SIDES_14_SR' \", \"output_path = '/mnt/g/data/PhD Projects/SR/sim_datamaps/'\", 'gen_map_nobeam_Jy_pix      = False', 'gen_map_nobeam_MJy_sr      = False', 'gen_map_smoothed_Jy_beam   = True', 'gen_map_smoothed_MJy_sr    = False']\n"
     ]
    },
    {
     "name": "stderr",
     "output_type": "stream",
     "text": [
      "SIDES iterations:  47%|████▋     | 14/30 [12:10<13:01, 48.85s/iter]"
     ]
    },
    {
     "name": "stdout",
     "output_type": "stream",
     "text": [
      "[SIDES - Iteration 14] Super-resolved completed.\n",
      "[\"sides_cat_path = '/mnt/g/data/PhD Projects/SR/sim_catalogs/SIDES_15_cat.fits'\", \"filter_list = ['MIPS24', 'SPIRE250', 'SPIRE350', 'SPIRE500']\", 'beam_fwhm_list = [5.7, 18.1, 24.9, 36.6]', 'pixel_size = [1.2, 6.0, 8.33, 12.0]', 'field_size = 2', \"run_name =  'SIDES_15' \", \"output_path = '/mnt/g/data/PhD Projects/SR/sim_datamaps/'\", 'gen_map_nobeam_Jy_pix      = False', 'gen_map_nobeam_MJy_sr      = False', 'gen_map_smoothed_Jy_beam   = True', 'gen_map_smoothed_MJy_sr    = False']\n",
      "[SIDES - Iteration 15] Native maps completed.\n",
      "[\"sides_cat_path = '/mnt/g/data/PhD Projects/SR/sim_catalogs/SIDES_15_cat.fits'\", \"filter_list = ['SPIRE500']\", 'beam_fwhm_list = [7.9]', 'pixel_size = [1.0]', 'field_size = 2', \"run_name =  'SIDES_15_SR' \", \"output_path = '/mnt/g/data/PhD Projects/SR/sim_datamaps/'\", 'gen_map_nobeam_Jy_pix      = False', 'gen_map_nobeam_MJy_sr      = False', 'gen_map_smoothed_Jy_beam   = True', 'gen_map_smoothed_MJy_sr    = False']\n"
     ]
    },
    {
     "name": "stderr",
     "output_type": "stream",
     "text": [
      "SIDES iterations:  50%|█████     | 15/30 [12:56<12:03, 48.22s/iter]"
     ]
    },
    {
     "name": "stdout",
     "output_type": "stream",
     "text": [
      "[SIDES - Iteration 15] Super-resolved completed.\n",
      "[\"sides_cat_path = '/mnt/g/data/PhD Projects/SR/sim_catalogs/SIDES_16_cat.fits'\", \"filter_list = ['MIPS24', 'SPIRE250', 'SPIRE350', 'SPIRE500']\", 'beam_fwhm_list = [5.7, 18.1, 24.9, 36.6]', 'pixel_size = [1.2, 6.0, 8.33, 12.0]', 'field_size = 2', \"run_name =  'SIDES_16' \", \"output_path = '/mnt/g/data/PhD Projects/SR/sim_datamaps/'\", 'gen_map_nobeam_Jy_pix      = False', 'gen_map_nobeam_MJy_sr      = False', 'gen_map_smoothed_Jy_beam   = True', 'gen_map_smoothed_MJy_sr    = False']\n",
      "[SIDES - Iteration 16] Native maps completed.\n",
      "[\"sides_cat_path = '/mnt/g/data/PhD Projects/SR/sim_catalogs/SIDES_16_cat.fits'\", \"filter_list = ['SPIRE500']\", 'beam_fwhm_list = [7.9]', 'pixel_size = [1.0]', 'field_size = 2', \"run_name =  'SIDES_16_SR' \", \"output_path = '/mnt/g/data/PhD Projects/SR/sim_datamaps/'\", 'gen_map_nobeam_Jy_pix      = False', 'gen_map_nobeam_MJy_sr      = False', 'gen_map_smoothed_Jy_beam   = True', 'gen_map_smoothed_MJy_sr    = False']\n"
     ]
    },
    {
     "name": "stderr",
     "output_type": "stream",
     "text": [
      "SIDES iterations:  53%|█████▎    | 16/30 [13:44<11:11, 48.00s/iter]"
     ]
    },
    {
     "name": "stdout",
     "output_type": "stream",
     "text": [
      "[SIDES - Iteration 16] Super-resolved completed.\n",
      "[\"sides_cat_path = '/mnt/g/data/PhD Projects/SR/sim_catalogs/SIDES_17_cat.fits'\", \"filter_list = ['MIPS24', 'SPIRE250', 'SPIRE350', 'SPIRE500']\", 'beam_fwhm_list = [5.7, 18.1, 24.9, 36.6]', 'pixel_size = [1.2, 6.0, 8.33, 12.0]', 'field_size = 2', \"run_name =  'SIDES_17' \", \"output_path = '/mnt/g/data/PhD Projects/SR/sim_datamaps/'\", 'gen_map_nobeam_Jy_pix      = False', 'gen_map_nobeam_MJy_sr      = False', 'gen_map_smoothed_Jy_beam   = True', 'gen_map_smoothed_MJy_sr    = False']\n",
      "[SIDES - Iteration 17] Native maps completed.\n",
      "[\"sides_cat_path = '/mnt/g/data/PhD Projects/SR/sim_catalogs/SIDES_17_cat.fits'\", \"filter_list = ['SPIRE500']\", 'beam_fwhm_list = [7.9]', 'pixel_size = [1.0]', 'field_size = 2', \"run_name =  'SIDES_17_SR' \", \"output_path = '/mnt/g/data/PhD Projects/SR/sim_datamaps/'\", 'gen_map_nobeam_Jy_pix      = False', 'gen_map_nobeam_MJy_sr      = False', 'gen_map_smoothed_Jy_beam   = True', 'gen_map_smoothed_MJy_sr    = False']\n"
     ]
    },
    {
     "name": "stderr",
     "output_type": "stream",
     "text": [
      "SIDES iterations:  57%|█████▋    | 17/30 [14:34<10:33, 48.69s/iter]"
     ]
    },
    {
     "name": "stdout",
     "output_type": "stream",
     "text": [
      "[SIDES - Iteration 17] Super-resolved completed.\n",
      "[\"sides_cat_path = '/mnt/g/data/PhD Projects/SR/sim_catalogs/SIDES_18_cat.fits'\", \"filter_list = ['MIPS24', 'SPIRE250', 'SPIRE350', 'SPIRE500']\", 'beam_fwhm_list = [5.7, 18.1, 24.9, 36.6]', 'pixel_size = [1.2, 6.0, 8.33, 12.0]', 'field_size = 2', \"run_name =  'SIDES_18' \", \"output_path = '/mnt/g/data/PhD Projects/SR/sim_datamaps/'\", 'gen_map_nobeam_Jy_pix      = False', 'gen_map_nobeam_MJy_sr      = False', 'gen_map_smoothed_Jy_beam   = True', 'gen_map_smoothed_MJy_sr    = False']\n",
      "[SIDES - Iteration 18] Native maps completed.\n",
      "[\"sides_cat_path = '/mnt/g/data/PhD Projects/SR/sim_catalogs/SIDES_18_cat.fits'\", \"filter_list = ['SPIRE500']\", 'beam_fwhm_list = [7.9]', 'pixel_size = [1.0]', 'field_size = 2', \"run_name =  'SIDES_18_SR' \", \"output_path = '/mnt/g/data/PhD Projects/SR/sim_datamaps/'\", 'gen_map_nobeam_Jy_pix      = False', 'gen_map_nobeam_MJy_sr      = False', 'gen_map_smoothed_Jy_beam   = True', 'gen_map_smoothed_MJy_sr    = False']\n"
     ]
    },
    {
     "name": "stderr",
     "output_type": "stream",
     "text": [
      "SIDES iterations:  60%|██████    | 18/30 [15:24<09:48, 49.01s/iter]"
     ]
    },
    {
     "name": "stdout",
     "output_type": "stream",
     "text": [
      "[SIDES - Iteration 18] Super-resolved completed.\n",
      "[\"sides_cat_path = '/mnt/g/data/PhD Projects/SR/sim_catalogs/SIDES_19_cat.fits'\", \"filter_list = ['MIPS24', 'SPIRE250', 'SPIRE350', 'SPIRE500']\", 'beam_fwhm_list = [5.7, 18.1, 24.9, 36.6]', 'pixel_size = [1.2, 6.0, 8.33, 12.0]', 'field_size = 2', \"run_name =  'SIDES_19' \", \"output_path = '/mnt/g/data/PhD Projects/SR/sim_datamaps/'\", 'gen_map_nobeam_Jy_pix      = False', 'gen_map_nobeam_MJy_sr      = False', 'gen_map_smoothed_Jy_beam   = True', 'gen_map_smoothed_MJy_sr    = False']\n",
      "[SIDES - Iteration 19] Native maps completed.\n",
      "[\"sides_cat_path = '/mnt/g/data/PhD Projects/SR/sim_catalogs/SIDES_19_cat.fits'\", \"filter_list = ['SPIRE500']\", 'beam_fwhm_list = [7.9]', 'pixel_size = [1.0]', 'field_size = 2', \"run_name =  'SIDES_19_SR' \", \"output_path = '/mnt/g/data/PhD Projects/SR/sim_datamaps/'\", 'gen_map_nobeam_Jy_pix      = False', 'gen_map_nobeam_MJy_sr      = False', 'gen_map_smoothed_Jy_beam   = True', 'gen_map_smoothed_MJy_sr    = False']\n"
     ]
    },
    {
     "name": "stderr",
     "output_type": "stream",
     "text": [
      "SIDES iterations:  63%|██████▎   | 19/30 [16:15<09:07, 49.74s/iter]"
     ]
    },
    {
     "name": "stdout",
     "output_type": "stream",
     "text": [
      "[SIDES - Iteration 19] Super-resolved completed.\n",
      "[\"sides_cat_path = '/mnt/g/data/PhD Projects/SR/sim_catalogs/SIDES_20_cat.fits'\", \"filter_list = ['MIPS24', 'SPIRE250', 'SPIRE350', 'SPIRE500']\", 'beam_fwhm_list = [5.7, 18.1, 24.9, 36.6]', 'pixel_size = [1.2, 6.0, 8.33, 12.0]', 'field_size = 2', \"run_name =  'SIDES_20' \", \"output_path = '/mnt/g/data/PhD Projects/SR/sim_datamaps/'\", 'gen_map_nobeam_Jy_pix      = False', 'gen_map_nobeam_MJy_sr      = False', 'gen_map_smoothed_Jy_beam   = True', 'gen_map_smoothed_MJy_sr    = False']\n",
      "[SIDES - Iteration 20] Native maps completed.\n",
      "[\"sides_cat_path = '/mnt/g/data/PhD Projects/SR/sim_catalogs/SIDES_20_cat.fits'\", \"filter_list = ['SPIRE500']\", 'beam_fwhm_list = [7.9]', 'pixel_size = [1.0]', 'field_size = 2', \"run_name =  'SIDES_20_SR' \", \"output_path = '/mnt/g/data/PhD Projects/SR/sim_datamaps/'\", 'gen_map_nobeam_Jy_pix      = False', 'gen_map_nobeam_MJy_sr      = False', 'gen_map_smoothed_Jy_beam   = True', 'gen_map_smoothed_MJy_sr    = False']\n"
     ]
    },
    {
     "name": "stderr",
     "output_type": "stream",
     "text": [
      "SIDES iterations:  67%|██████▋   | 20/30 [17:05<08:17, 49.78s/iter]"
     ]
    },
    {
     "name": "stdout",
     "output_type": "stream",
     "text": [
      "[SIDES - Iteration 20] Super-resolved completed.\n",
      "[\"sides_cat_path = '/mnt/g/data/PhD Projects/SR/sim_catalogs/SIDES_21_cat.fits'\", \"filter_list = ['MIPS24', 'SPIRE250', 'SPIRE350', 'SPIRE500']\", 'beam_fwhm_list = [5.7, 18.1, 24.9, 36.6]', 'pixel_size = [1.2, 6.0, 8.33, 12.0]', 'field_size = 2', \"run_name =  'SIDES_21' \", \"output_path = '/mnt/g/data/PhD Projects/SR/sim_datamaps/'\", 'gen_map_nobeam_Jy_pix      = False', 'gen_map_nobeam_MJy_sr      = False', 'gen_map_smoothed_Jy_beam   = True', 'gen_map_smoothed_MJy_sr    = False']\n",
      "[SIDES - Iteration 21] Native maps completed.\n",
      "[\"sides_cat_path = '/mnt/g/data/PhD Projects/SR/sim_catalogs/SIDES_21_cat.fits'\", \"filter_list = ['SPIRE500']\", 'beam_fwhm_list = [7.9]', 'pixel_size = [1.0]', 'field_size = 2', \"run_name =  'SIDES_21_SR' \", \"output_path = '/mnt/g/data/PhD Projects/SR/sim_datamaps/'\", 'gen_map_nobeam_Jy_pix      = False', 'gen_map_nobeam_MJy_sr      = False', 'gen_map_smoothed_Jy_beam   = True', 'gen_map_smoothed_MJy_sr    = False']\n"
     ]
    },
    {
     "name": "stderr",
     "output_type": "stream",
     "text": [
      "SIDES iterations:  70%|███████   | 21/30 [18:02<07:46, 51.81s/iter]"
     ]
    },
    {
     "name": "stdout",
     "output_type": "stream",
     "text": [
      "[SIDES - Iteration 21] Super-resolved completed.\n",
      "[\"sides_cat_path = '/mnt/g/data/PhD Projects/SR/sim_catalogs/SIDES_22_cat.fits'\", \"filter_list = ['MIPS24', 'SPIRE250', 'SPIRE350', 'SPIRE500']\", 'beam_fwhm_list = [5.7, 18.1, 24.9, 36.6]', 'pixel_size = [1.2, 6.0, 8.33, 12.0]', 'field_size = 2', \"run_name =  'SIDES_22' \", \"output_path = '/mnt/g/data/PhD Projects/SR/sim_datamaps/'\", 'gen_map_nobeam_Jy_pix      = False', 'gen_map_nobeam_MJy_sr      = False', 'gen_map_smoothed_Jy_beam   = True', 'gen_map_smoothed_MJy_sr    = False']\n",
      "[SIDES - Iteration 22] Native maps completed.\n",
      "[\"sides_cat_path = '/mnt/g/data/PhD Projects/SR/sim_catalogs/SIDES_22_cat.fits'\", \"filter_list = ['SPIRE500']\", 'beam_fwhm_list = [7.9]', 'pixel_size = [1.0]', 'field_size = 2', \"run_name =  'SIDES_22_SR' \", \"output_path = '/mnt/g/data/PhD Projects/SR/sim_datamaps/'\", 'gen_map_nobeam_Jy_pix      = False', 'gen_map_nobeam_MJy_sr      = False', 'gen_map_smoothed_Jy_beam   = True', 'gen_map_smoothed_MJy_sr    = False']\n"
     ]
    },
    {
     "name": "stderr",
     "output_type": "stream",
     "text": [
      "SIDES iterations:  73%|███████▎  | 22/30 [18:58<07:04, 53.07s/iter]"
     ]
    },
    {
     "name": "stdout",
     "output_type": "stream",
     "text": [
      "[SIDES - Iteration 22] Super-resolved completed.\n",
      "[\"sides_cat_path = '/mnt/g/data/PhD Projects/SR/sim_catalogs/SIDES_23_cat.fits'\", \"filter_list = ['MIPS24', 'SPIRE250', 'SPIRE350', 'SPIRE500']\", 'beam_fwhm_list = [5.7, 18.1, 24.9, 36.6]', 'pixel_size = [1.2, 6.0, 8.33, 12.0]', 'field_size = 2', \"run_name =  'SIDES_23' \", \"output_path = '/mnt/g/data/PhD Projects/SR/sim_datamaps/'\", 'gen_map_nobeam_Jy_pix      = False', 'gen_map_nobeam_MJy_sr      = False', 'gen_map_smoothed_Jy_beam   = True', 'gen_map_smoothed_MJy_sr    = False']\n",
      "[SIDES - Iteration 23] Native maps completed.\n",
      "[\"sides_cat_path = '/mnt/g/data/PhD Projects/SR/sim_catalogs/SIDES_23_cat.fits'\", \"filter_list = ['SPIRE500']\", 'beam_fwhm_list = [7.9]', 'pixel_size = [1.0]', 'field_size = 2', \"run_name =  'SIDES_23_SR' \", \"output_path = '/mnt/g/data/PhD Projects/SR/sim_datamaps/'\", 'gen_map_nobeam_Jy_pix      = False', 'gen_map_nobeam_MJy_sr      = False', 'gen_map_smoothed_Jy_beam   = True', 'gen_map_smoothed_MJy_sr    = False']\n"
     ]
    },
    {
     "name": "stderr",
     "output_type": "stream",
     "text": [
      "SIDES iterations:  77%|███████▋  | 23/30 [19:53<06:16, 53.84s/iter]"
     ]
    },
    {
     "name": "stdout",
     "output_type": "stream",
     "text": [
      "[SIDES - Iteration 23] Super-resolved completed.\n",
      "[\"sides_cat_path = '/mnt/g/data/PhD Projects/SR/sim_catalogs/SIDES_24_cat.fits'\", \"filter_list = ['MIPS24', 'SPIRE250', 'SPIRE350', 'SPIRE500']\", 'beam_fwhm_list = [5.7, 18.1, 24.9, 36.6]', 'pixel_size = [1.2, 6.0, 8.33, 12.0]', 'field_size = 2', \"run_name =  'SIDES_24' \", \"output_path = '/mnt/g/data/PhD Projects/SR/sim_datamaps/'\", 'gen_map_nobeam_Jy_pix      = False', 'gen_map_nobeam_MJy_sr      = False', 'gen_map_smoothed_Jy_beam   = True', 'gen_map_smoothed_MJy_sr    = False']\n",
      "[SIDES - Iteration 24] Native maps completed.\n",
      "[\"sides_cat_path = '/mnt/g/data/PhD Projects/SR/sim_catalogs/SIDES_24_cat.fits'\", \"filter_list = ['SPIRE500']\", 'beam_fwhm_list = [7.9]', 'pixel_size = [1.0]', 'field_size = 2', \"run_name =  'SIDES_24_SR' \", \"output_path = '/mnt/g/data/PhD Projects/SR/sim_datamaps/'\", 'gen_map_nobeam_Jy_pix      = False', 'gen_map_nobeam_MJy_sr      = False', 'gen_map_smoothed_Jy_beam   = True', 'gen_map_smoothed_MJy_sr    = False']\n"
     ]
    },
    {
     "name": "stderr",
     "output_type": "stream",
     "text": [
      "SIDES iterations:  80%|████████  | 24/30 [20:50<05:28, 54.80s/iter]"
     ]
    },
    {
     "name": "stdout",
     "output_type": "stream",
     "text": [
      "[SIDES - Iteration 24] Super-resolved completed.\n",
      "[\"sides_cat_path = '/mnt/g/data/PhD Projects/SR/sim_catalogs/SIDES_25_cat.fits'\", \"filter_list = ['MIPS24', 'SPIRE250', 'SPIRE350', 'SPIRE500']\", 'beam_fwhm_list = [5.7, 18.1, 24.9, 36.6]', 'pixel_size = [1.2, 6.0, 8.33, 12.0]', 'field_size = 2', \"run_name =  'SIDES_25' \", \"output_path = '/mnt/g/data/PhD Projects/SR/sim_datamaps/'\", 'gen_map_nobeam_Jy_pix      = False', 'gen_map_nobeam_MJy_sr      = False', 'gen_map_smoothed_Jy_beam   = True', 'gen_map_smoothed_MJy_sr    = False']\n",
      "[SIDES - Iteration 25] Native maps completed.\n",
      "[\"sides_cat_path = '/mnt/g/data/PhD Projects/SR/sim_catalogs/SIDES_25_cat.fits'\", \"filter_list = ['SPIRE500']\", 'beam_fwhm_list = [7.9]', 'pixel_size = [1.0]', 'field_size = 2', \"run_name =  'SIDES_25_SR' \", \"output_path = '/mnt/g/data/PhD Projects/SR/sim_datamaps/'\", 'gen_map_nobeam_Jy_pix      = False', 'gen_map_nobeam_MJy_sr      = False', 'gen_map_smoothed_Jy_beam   = True', 'gen_map_smoothed_MJy_sr    = False']\n"
     ]
    },
    {
     "name": "stderr",
     "output_type": "stream",
     "text": [
      "SIDES iterations:  83%|████████▎ | 25/30 [21:37<04:22, 52.41s/iter]"
     ]
    },
    {
     "name": "stdout",
     "output_type": "stream",
     "text": [
      "[SIDES - Iteration 25] Super-resolved completed.\n",
      "[\"sides_cat_path = '/mnt/g/data/PhD Projects/SR/sim_catalogs/SIDES_26_cat.fits'\", \"filter_list = ['MIPS24', 'SPIRE250', 'SPIRE350', 'SPIRE500']\", 'beam_fwhm_list = [5.7, 18.1, 24.9, 36.6]', 'pixel_size = [1.2, 6.0, 8.33, 12.0]', 'field_size = 2', \"run_name =  'SIDES_26' \", \"output_path = '/mnt/g/data/PhD Projects/SR/sim_datamaps/'\", 'gen_map_nobeam_Jy_pix      = False', 'gen_map_nobeam_MJy_sr      = False', 'gen_map_smoothed_Jy_beam   = True', 'gen_map_smoothed_MJy_sr    = False']\n",
      "[SIDES - Iteration 26] Native maps completed.\n",
      "[\"sides_cat_path = '/mnt/g/data/PhD Projects/SR/sim_catalogs/SIDES_26_cat.fits'\", \"filter_list = ['SPIRE500']\", 'beam_fwhm_list = [7.9]', 'pixel_size = [1.0]', 'field_size = 2', \"run_name =  'SIDES_26_SR' \", \"output_path = '/mnt/g/data/PhD Projects/SR/sim_datamaps/'\", 'gen_map_nobeam_Jy_pix      = False', 'gen_map_nobeam_MJy_sr      = False', 'gen_map_smoothed_Jy_beam   = True', 'gen_map_smoothed_MJy_sr    = False']\n"
     ]
    },
    {
     "name": "stderr",
     "output_type": "stream",
     "text": [
      "SIDES iterations:  87%|████████▋ | 26/30 [22:26<03:24, 51.20s/iter]"
     ]
    },
    {
     "name": "stdout",
     "output_type": "stream",
     "text": [
      "[SIDES - Iteration 26] Super-resolved completed.\n",
      "[\"sides_cat_path = '/mnt/g/data/PhD Projects/SR/sim_catalogs/SIDES_27_cat.fits'\", \"filter_list = ['MIPS24', 'SPIRE250', 'SPIRE350', 'SPIRE500']\", 'beam_fwhm_list = [5.7, 18.1, 24.9, 36.6]', 'pixel_size = [1.2, 6.0, 8.33, 12.0]', 'field_size = 2', \"run_name =  'SIDES_27' \", \"output_path = '/mnt/g/data/PhD Projects/SR/sim_datamaps/'\", 'gen_map_nobeam_Jy_pix      = False', 'gen_map_nobeam_MJy_sr      = False', 'gen_map_smoothed_Jy_beam   = True', 'gen_map_smoothed_MJy_sr    = False']\n",
      "[SIDES - Iteration 27] Native maps completed.\n",
      "[\"sides_cat_path = '/mnt/g/data/PhD Projects/SR/sim_catalogs/SIDES_27_cat.fits'\", \"filter_list = ['SPIRE500']\", 'beam_fwhm_list = [7.9]', 'pixel_size = [1.0]', 'field_size = 2', \"run_name =  'SIDES_27_SR' \", \"output_path = '/mnt/g/data/PhD Projects/SR/sim_datamaps/'\", 'gen_map_nobeam_Jy_pix      = False', 'gen_map_nobeam_MJy_sr      = False', 'gen_map_smoothed_Jy_beam   = True', 'gen_map_smoothed_MJy_sr    = False']\n"
     ]
    },
    {
     "name": "stderr",
     "output_type": "stream",
     "text": [
      "SIDES iterations:  90%|█████████ | 27/30 [23:13<02:30, 50.09s/iter]"
     ]
    },
    {
     "name": "stdout",
     "output_type": "stream",
     "text": [
      "[SIDES - Iteration 27] Super-resolved completed.\n",
      "[\"sides_cat_path = '/mnt/g/data/PhD Projects/SR/sim_catalogs/SIDES_28_cat.fits'\", \"filter_list = ['MIPS24', 'SPIRE250', 'SPIRE350', 'SPIRE500']\", 'beam_fwhm_list = [5.7, 18.1, 24.9, 36.6]', 'pixel_size = [1.2, 6.0, 8.33, 12.0]', 'field_size = 2', \"run_name =  'SIDES_28' \", \"output_path = '/mnt/g/data/PhD Projects/SR/sim_datamaps/'\", 'gen_map_nobeam_Jy_pix      = False', 'gen_map_nobeam_MJy_sr      = False', 'gen_map_smoothed_Jy_beam   = True', 'gen_map_smoothed_MJy_sr    = False']\n",
      "[SIDES - Iteration 28] Native maps completed.\n",
      "[\"sides_cat_path = '/mnt/g/data/PhD Projects/SR/sim_catalogs/SIDES_28_cat.fits'\", \"filter_list = ['SPIRE500']\", 'beam_fwhm_list = [7.9]', 'pixel_size = [1.0]', 'field_size = 2', \"run_name =  'SIDES_28_SR' \", \"output_path = '/mnt/g/data/PhD Projects/SR/sim_datamaps/'\", 'gen_map_nobeam_Jy_pix      = False', 'gen_map_nobeam_MJy_sr      = False', 'gen_map_smoothed_Jy_beam   = True', 'gen_map_smoothed_MJy_sr    = False']\n"
     ]
    },
    {
     "name": "stderr",
     "output_type": "stream",
     "text": [
      "SIDES iterations:  93%|█████████▎| 28/30 [24:02<01:39, 49.67s/iter]"
     ]
    },
    {
     "name": "stdout",
     "output_type": "stream",
     "text": [
      "[SIDES - Iteration 28] Super-resolved completed.\n",
      "[\"sides_cat_path = '/mnt/g/data/PhD Projects/SR/sim_catalogs/SIDES_29_cat.fits'\", \"filter_list = ['MIPS24', 'SPIRE250', 'SPIRE350', 'SPIRE500']\", 'beam_fwhm_list = [5.7, 18.1, 24.9, 36.6]', 'pixel_size = [1.2, 6.0, 8.33, 12.0]', 'field_size = 2', \"run_name =  'SIDES_29' \", \"output_path = '/mnt/g/data/PhD Projects/SR/sim_datamaps/'\", 'gen_map_nobeam_Jy_pix      = False', 'gen_map_nobeam_MJy_sr      = False', 'gen_map_smoothed_Jy_beam   = True', 'gen_map_smoothed_MJy_sr    = False']\n",
      "[SIDES - Iteration 29] Native maps completed.\n",
      "[\"sides_cat_path = '/mnt/g/data/PhD Projects/SR/sim_catalogs/SIDES_29_cat.fits'\", \"filter_list = ['SPIRE500']\", 'beam_fwhm_list = [7.9]', 'pixel_size = [1.0]', 'field_size = 2', \"run_name =  'SIDES_29_SR' \", \"output_path = '/mnt/g/data/PhD Projects/SR/sim_datamaps/'\", 'gen_map_nobeam_Jy_pix      = False', 'gen_map_nobeam_MJy_sr      = False', 'gen_map_smoothed_Jy_beam   = True', 'gen_map_smoothed_MJy_sr    = False']\n"
     ]
    },
    {
     "name": "stderr",
     "output_type": "stream",
     "text": [
      "SIDES iterations:  97%|█████████▋| 29/30 [24:45<00:47, 47.73s/iter]"
     ]
    },
    {
     "name": "stdout",
     "output_type": "stream",
     "text": [
      "[SIDES - Iteration 29] Super-resolved completed.\n",
      "[\"sides_cat_path = '/mnt/g/data/PhD Projects/SR/sim_catalogs/SIDES_30_cat.fits'\", \"filter_list = ['MIPS24', 'SPIRE250', 'SPIRE350', 'SPIRE500']\", 'beam_fwhm_list = [5.7, 18.1, 24.9, 36.6]', 'pixel_size = [1.2, 6.0, 8.33, 12.0]', 'field_size = 2', \"run_name =  'SIDES_30' \", \"output_path = '/mnt/g/data/PhD Projects/SR/sim_datamaps/'\", 'gen_map_nobeam_Jy_pix      = False', 'gen_map_nobeam_MJy_sr      = False', 'gen_map_smoothed_Jy_beam   = True', 'gen_map_smoothed_MJy_sr    = False']\n",
      "[SIDES - Iteration 30] Native maps completed.\n",
      "[\"sides_cat_path = '/mnt/g/data/PhD Projects/SR/sim_catalogs/SIDES_30_cat.fits'\", \"filter_list = ['SPIRE500']\", 'beam_fwhm_list = [7.9]', 'pixel_size = [1.0]', 'field_size = 2', \"run_name =  'SIDES_30_SR' \", \"output_path = '/mnt/g/data/PhD Projects/SR/sim_datamaps/'\", 'gen_map_nobeam_Jy_pix      = False', 'gen_map_nobeam_MJy_sr      = False', 'gen_map_smoothed_Jy_beam   = True', 'gen_map_smoothed_MJy_sr    = False']\n"
     ]
    },
    {
     "name": "stderr",
     "output_type": "stream",
     "text": [
      "SIDES iterations: 100%|██████████| 30/30 [25:28<00:00, 50.94s/iter]"
     ]
    },
    {
     "name": "stdout",
     "output_type": "stream",
     "text": [
      "[SIDES - Iteration 30] Super-resolved completed.\n"
     ]
    },
    {
     "name": "stderr",
     "output_type": "stream",
     "text": [
      "\n"
     ]
    }
   ],
   "source": [
    "import os\n",
    "import subprocess\n",
    "from tqdm import tqdm\n",
    "\n",
    "sim_catalogs_path = '/mnt/g/data/PhD Projects/SR/sim_catalogs'\n",
    "par_file = '/mnt/d/sides-public-release-main/PYSIDES/PAR_FILES/Herschel_maps.par'\n",
    "py_script_path = '/mnt/d/sides-public-release-main/PYSIDES/gen_Herschel_maps.py'\n",
    "\n",
    "N = 30\n",
    "\n",
    "for dataset in [\"SIDES\"]:\n",
    "    print(f\"Processing dataset: {dataset}\")\n",
    "    for i in tqdm(range(1, N + 1), desc=f\"{dataset} iterations\", unit=\"iter\"):\n",
    "        # Process native datamaps\n",
    "        gen_native_map_params['sides_cat_path'] = f\"'{os.path.join(sim_catalogs_path, f'{dataset}_{i}_cat.fits')}'\"\n",
    "        gen_native_map_params['run_name'] = f\" '{dataset}_{i}' \"\n",
    "        parse_par_file(gen_native_map_params, par_file)\n",
    "        \n",
    "        result = subprocess.run(\n",
    "            [\"python3\", py_script_path],\n",
    "            capture_output=True,\n",
    "            text=True,\n",
    "            cwd=os.path.dirname(py_script_path)\n",
    "        )\n",
    "        if result.returncode != 0:\n",
    "            print(f\"[{dataset} - Iteration {i}] Native maps script failed: {result.stderr}\")\n",
    "        else:\n",
    "            print(f\"[{dataset} - Iteration {i}] Native maps completed.\")\n",
    "\n",
    "        # Process super-resolved datamaps\n",
    "        gen_sr_map_params['sides_cat_path'] = f\"'{os.path.join(sim_catalogs_path, f'{dataset}_{i}_cat.fits')}'\"\n",
    "        gen_sr_map_params['run_name'] = f\" '{dataset}_{i}_SR' \"\n",
    "        parse_par_file(gen_sr_map_params, par_file)\n",
    "        \n",
    "        result = subprocess.run(\n",
    "            [\"python3\", py_script_path],\n",
    "            capture_output=True,\n",
    "            text=True,\n",
    "            cwd=os.path.dirname(py_script_path)\n",
    "        )\n",
    "        if result.returncode != 0:\n",
    "            print(f\"[{dataset} - Iteration {i}] Super-resolved script failed: {result.stderr}\")\n",
    "        else:\n",
    "            print(f\"[{dataset} - Iteration {i}] Super-resolved completed.\")"
   ]
  },
  {
   "cell_type": "code",
   "execution_count": null,
   "id": "0d5e2fa1",
   "metadata": {},
   "outputs": [],
   "source": []
  }
 ],
 "metadata": {
  "kernelspec": {
   "display_name": "Python 3",
   "language": "python",
   "name": "python3"
  },
  "language_info": {
   "codemirror_mode": {
    "name": "ipython",
    "version": 3
   },
   "file_extension": ".py",
   "mimetype": "text/x-python",
   "name": "python",
   "nbconvert_exporter": "python",
   "pygments_lexer": "ipython3",
   "version": "3.10.12"
  }
 },
 "nbformat": 4,
 "nbformat_minor": 5
}

{
 "cells": [
  {
   "cell_type": "code",
   "execution_count": null,
   "id": "e9affadf",
   "metadata": {},
   "outputs": [
    {
     "ename": "",
     "evalue": "",
     "output_type": "error",
     "traceback": [
      "\u001b[1;31mThe Kernel crashed while executing code in the current cell or a previous cell. \n",
      "\u001b[1;31mPlease review the code in the cell(s) to identify a possible cause of the failure. \n",
      "\u001b[1;31mClick <a href='https://aka.ms/vscodeJupyterKernelCrash'>here</a> for more info. \n",
      "\u001b[1;31mView Jupyter <a href='command:jupyter.viewOutput'>log</a> for further details."
     ]
    }
   ],
   "source": [
    "import numpy as np\n",
    "import pandas as pd\n",
    "from astropy.table import Table, vstack\n",
    "import gc\n",
    "import os\n",
    "import shutil\n",
    "\n",
    "from astropy.io import fits\n",
    "\n",
    "from tqdm import tqdm\n"
   ]
  },
  {
   "cell_type": "markdown",
   "id": "66316fa1",
   "metadata": {},
   "source": [
    "### Load pySIDES uchuu catalogs and merge all tiles"
   ]
  },
  {
   "cell_type": "code",
   "execution_count": null,
   "id": "ec5e1401",
   "metadata": {},
   "outputs": [
    {
     "name": "stderr",
     "output_type": "stream",
     "text": [
      "100%|██████████| 7/7 [05:51<00:00, 50.16s/it]\n"
     ]
    }
   ],
   "source": [
    "def load_catalog(tile_i, tile_j):\n",
    "    filename = f'/mnt/g/data/PhD Projects/SR/pysides_from_uchuu catalogs/pySIDES_from_uchuu_tile_{tile_i}_{tile_j}.fits'\n",
    "    return Table.read(filename)\n",
    "\n",
    "# Define the range of tiles (using the same limits as in cell index 3)\n",
    "end_i = 6\n",
    "end_j = 8\n",
    "\n",
    "catalog_list = []\n",
    "for i in tqdm(range(end_i + 1)):\n",
    "    max_j = 8 if i < end_i else end_j\n",
    "    for j in range(max_j + 1):\n",
    "        try:\n",
    "            cat = load_catalog(i, j)\n",
    "        except:\n",
    "            continue\n",
    "        # Select only the specified columns: 'ra', 'dec', 'S24', 'S250', 'S350', 'S500'\n",
    "        selected_cat = cat[['ra', 'dec', 'S24', 'S250', 'S350', 'S500']]\n",
    "        catalog_list.append(selected_cat)\n",
    "\n",
    "        del cat;\n",
    "        gc.collect()\n",
    "\n",
    "# Combine all the selected catalogs into one table\n",
    "combined_catalog = vstack(catalog_list)\n"
   ]
  }
 ],
 "metadata": {
  "kernelspec": {
   "display_name": "Python 3",
   "language": "python",
   "name": "python3"
  },
  "language_info": {
   "codemirror_mode": {
    "name": "ipython",
    "version": 3
   },
   "file_extension": ".py",
   "mimetype": "text/x-python",
   "name": "python",
   "nbconvert_exporter": "python",
   "pygments_lexer": "ipython3",
   "version": "3.10.12"
  }
 },
 "nbformat": 4,
 "nbformat_minor": 5
}

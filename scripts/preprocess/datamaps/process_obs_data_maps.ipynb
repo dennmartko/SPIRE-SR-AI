{
 "cells": [
  {
   "cell_type": "code",
   "execution_count": 1,
   "metadata": {},
   "outputs": [],
   "source": [
    "import os\n",
    "import random\n",
    "import gc\n",
    "import time\n",
    "import warnings\n",
    "\n",
    "import numpy as np\n",
    "import pandas as pd\n",
    "\n",
    "from astropy.io import fits\n",
    "from matplotlib import pyplot as plt\n",
    "from mpl_toolkits.axes_grid1 import make_axes_locatable\n",
    "from astropy.wcs import WCS\n",
    "from astropy.nddata.utils import Cutout2D\n",
    "from astropy.table import Table\n",
    "from reproject import reproject_exact\n",
    "from scipy.stats import norm\n",
    "\n",
    "from astropy.coordinates import SkyCoord\n",
    "from astropy import units\n",
    "from astropy.stats import sigma_clipped_stats\n",
    "from photutils.detection import DAOStarFinder\n",
    "\n",
    "from photutils.background import MMMBackground\n",
    "from photutils.psf import DAOGroup, IntegratedGaussianPRF, DAOPhotPSFPhotometry\n",
    "from astropy.modeling.fitting import LevMarLSQFitter\n",
    "from tqdm import tqdm\n",
    "from photutils.aperture import CircularAperture, aperture_photometry\n",
    "\n",
    "import matplotlib.patches as mpatches\n",
    "from matplotlib.gridspec import GridSpec\n"
   ]
  },
  {
   "cell_type": "markdown",
   "metadata": {},
   "source": [
    "### Multiply the observational data maps by the correction factors and save it to disk"
   ]
  },
  {
   "cell_type": "code",
   "execution_count": 2,
   "metadata": {},
   "outputs": [],
   "source": [
    "# Function to process the FITS files\n",
    "def process_fits_files(input_filepath, output_filepath, corr_factor, max_hdu_idx=-1):\n",
    "    # Get a list of all FITS files in the input directory\n",
    "    # Open the FITS file\n",
    "    with fits.open(input_filepath) as hdul:\n",
    "        # apply the correction factor to all hdus, since errors propagate with the same correction factor\n",
    "        for idx, hdu in enumerate(hdul):\n",
    "            if max_hdu_idx != -1 and idx >= max_hdu_idx:\n",
    "                break\n",
    "            if hdu.data is not None:\n",
    "                hdu.data *= corr_factor\n",
    "        # Save the modified HDU to a new FITS file\n",
    "        hdul.writeto(output_filepath, overwrite=True)\n",
    "\n",
    "    print(f\"Processed file: {input_filepath}\\n\")"
   ]
  },
  {
   "cell_type": "code",
   "execution_count": 3,
   "metadata": {},
   "outputs": [
    {
     "name": "stdout",
     "output_type": "stream",
     "text": [
      "Processed file: /mnt/d/SRHerschel500/data/raw/obs datamaps/mips_24_GO3_sci_10.fits\n",
      "\n",
      "Processed file: /mnt/d/SRHerschel500/data/raw/obs datamaps/COSMOS-Nest_image_250_SMAP_v6.0.fits\n",
      "\n",
      "Processed file: /mnt/d/SRHerschel500/data/raw/obs datamaps/COSMOS-Nest_image_350_SMAP_v6.0.fits\n",
      "\n",
      "Processed file: /mnt/d/SRHerschel500/data/raw/obs datamaps/COSMOS-Nest_image_500_SMAP_v6.0.fits\n",
      "\n",
      "Processed file: /mnt/d/SRHerschel500/data/raw/obs datamaps/SCS_450.fits\n",
      "\n",
      "Processed file: /mnt/d/SRHerschel500/data/raw/obs datamaps/mips_24_GO3_unc_10.fits\n",
      "\n",
      "Processed file: /mnt/d/SRHerschel500/data/raw/obs datamaps/SCS_450_rm_mf.fits\n",
      "\n"
     ]
    }
   ],
   "source": [
    "input_filepaths = [\"/mnt/d/SRHerschel500/data/raw/obs datamaps/mips_24_GO3_sci_10.fits\", \"/mnt/d/SRHerschel500/data/raw/obs datamaps/COSMOS-Nest_image_250_SMAP_v6.0.fits\",\n",
    "                    \"/mnt/d/SRHerschel500/data/raw/obs datamaps/COSMOS-Nest_image_350_SMAP_v6.0.fits\", \"/mnt/d/SRHerschel500/data/raw/obs datamaps/COSMOS-Nest_image_500_SMAP_v6.0.fits\",\n",
    "                    \"/mnt/d/SRHerschel500/data/raw/obs datamaps/SCS_450.fits\"]\n",
    "\n",
    "output_filepaths = [\"/mnt/d/SRHerschel500/data/raw/obs datamaps/mips_24_GO3_sci_10_corr.fits\",\n",
    "                    \"/mnt/d/SRHerschel500/data/raw/obs datamaps/COSMOS-Nest_image_250_SMAP_v6.0_corr.fits\", \n",
    "                    \"/mnt/d/SRHerschel500/data/raw/obs datamaps/COSMOS-Nest_image_350_SMAP_v6.0_corr.fits\",\n",
    "                    \"/mnt/d/SRHerschel500/data/raw/obs datamaps/COSMOS-Nest_image_500_SMAP_v6.0_corr.fits\",\n",
    "                    \"/mnt/d/SRHerschel500/data/raw/obs datamaps/SCS_450_corr.fits\"]\n",
    "\n",
    "corr_factor_l = [0.865e-3*1.369, 1, 1, 1, 1e-3]\n",
    "# corr_factor_l = [0.141085553/1000 * 1.369, 1, 1, 1, 1e-3]\n",
    "# corr_factor_l = [0.000865, 1, 1, 1, 1e-3]\n",
    "\n",
    "for idx in range(len(input_filepaths)):\n",
    "    process_fits_files(input_filepaths[idx], output_filepaths[idx], corr_factor_l[idx])\n",
    "\n",
    "# Additionally, we have a seperate file for uncertainties of the 24 microns\n",
    "process_fits_files(\"/mnt/d/SRHerschel500/data/raw/obs datamaps/mips_24_GO3_unc_10.fits\", \"/mnt/d/SRHerschel500/data/raw/obs datamaps/mips_24_GO3_unc_10_corr2.fits\", corr_factor_l[0])\n",
    "\n",
    "# Additionally, we have a seperate file for uncertainties of the 450 microns, but we can only correct until hdu idx 2 due to errors\n",
    "process_fits_files(\"/mnt/d/SRHerschel500/data/raw/obs datamaps/SCS_450_rm_mf.fits\", \"/mnt/d/SRHerschel500/data/raw/obs datamaps/SCS_450_rm_mf_corr.fits\", corr_factor_l[-1], max_hdu_idx=2)"
   ]
  },
  {
   "cell_type": "code",
   "execution_count": 4,
   "metadata": {},
   "outputs": [],
   "source": [
    "pixel_size = 1.2\n",
    "beam_fwhm = 5.7\n",
    "gaussian_fwhm_to_sigma = 0.42466\n",
    "sigma_pix =  beam_fwhm * gaussian_fwhm_to_sigma / pixel_size"
   ]
  },
  {
   "cell_type": "code",
   "execution_count": 5,
   "metadata": {},
   "outputs": [
    {
     "data": {
      "text/latex": [
       "$0.00086529434 \\; \\mathrm{\\frac{Jy}{beam}}$"
      ],
      "text/plain": [
       "<Quantity 0.00086529 Jy / beam>"
      ]
     },
     "execution_count": 5,
     "metadata": {},
     "output_type": "execute_result"
    }
   ],
   "source": [
    "from astropy import units as u\n",
    "beam_fwhm = 5.7*u.arcsec\n",
    "fwhm_to_sigma = 1. / (8 * np.log(2))**0.5\n",
    "beam_sigma = beam_fwhm * fwhm_to_sigma\n",
    "omega_B = 2 * np.pi * beam_sigma**2\n",
    "(1*u.MJy/u.sr).to(u.Jy/u.beam, equivalencies=u.beam_angular_area(omega_B))  "
   ]
  },
  {
   "cell_type": "code",
   "execution_count": null,
   "metadata": {},
   "outputs": [],
   "source": []
  }
 ],
 "metadata": {
  "kernelspec": {
   "display_name": "base",
   "language": "python",
   "name": "python3"
  },
  "language_info": {
   "codemirror_mode": {
    "name": "ipython",
    "version": 3
   },
   "file_extension": ".py",
   "mimetype": "text/x-python",
   "name": "python",
   "nbconvert_exporter": "python",
   "pygments_lexer": "ipython3",
   "version": "3.10.12"
  },
  "orig_nbformat": 4
 },
 "nbformat": 4,
 "nbformat_minor": 2
}
